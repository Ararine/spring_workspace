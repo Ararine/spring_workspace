{
  "nbformat": 4,
  "nbformat_minor": 0,
  "metadata": {
    "colab": {
      "provenance": [],
      "mount_file_id": "1pAvNdRmR4XJ63WUaKg-46i1k0hHWHhuB",
      "authorship_tag": "ABX9TyMBg9rSNsWAmS9ky4Z/MS7c",
      "include_colab_link": true
    },
    "kernelspec": {
      "name": "python3",
      "display_name": "Python 3"
    },
    "language_info": {
      "name": "python"
    }
  },
  "cells": [
    {
      "cell_type": "markdown",
      "metadata": {
        "id": "view-in-github",
        "colab_type": "text"
      },
      "source": [
        "<a href=\"https://colab.research.google.com/github/Ararine/spring_workspace/blob/master/100_colab_%ED%99%98%EA%B2%BD%EC%84%A4%EC%A0%95.ipynb\" target=\"_parent\"><img src=\"https://colab.research.google.com/assets/colab-badge.svg\" alt=\"Open In Colab\"/></a>"
      ]
    },
    {
      "cell_type": "code",
      "execution_count": 1,
      "metadata": {
        "colab": {
          "base_uri": "https://localhost:8080/"
        },
        "id": "nzf741CiysTd",
        "outputId": "45a2b9bd-ee9f-42e7-9581-fbe95cc2dd2a"
      },
      "outputs": [
        {
          "output_type": "stream",
          "name": "stdout",
          "text": [
            "/content\n"
          ]
        }
      ],
      "source": [
        "!pwd # jupitor 에서는 %사용"
      ]
    },
    {
      "cell_type": "markdown",
      "source": [
        "### 1. 구글 코랩 환경"
      ],
      "metadata": {
        "id": "WadFXZv30cUF"
      }
    },
    {
      "cell_type": "code",
      "source": [
        "# os 확인\n",
        "!cat /etc/issue.net"
      ],
      "metadata": {
        "colab": {
          "base_uri": "https://localhost:8080/"
        },
        "id": "fn83f2xm0fNu",
        "outputId": "8cb5bf96-c70c-4a64-86cf-2993a729a8b9"
      },
      "execution_count": 3,
      "outputs": [
        {
          "output_type": "stream",
          "name": "stdout",
          "text": [
            "Ubuntu 18.04.6 LTS\n"
          ]
        }
      ]
    },
    {
      "cell_type": "code",
      "source": [
        "# cpu\n",
        "!head /proc/cpuinfo"
      ],
      "metadata": {
        "colab": {
          "base_uri": "https://localhost:8080/"
        },
        "id": "M2KM3g6b0p0n",
        "outputId": "044bddb5-b982-46c6-c5db-0d843e065b31"
      },
      "execution_count": 4,
      "outputs": [
        {
          "output_type": "stream",
          "name": "stdout",
          "text": [
            "processor\t: 0\n",
            "vendor_id\t: GenuineIntel\n",
            "cpu family\t: 6\n",
            "model\t\t: 79\n",
            "model name\t: Intel(R) Xeon(R) CPU @ 2.20GHz\n",
            "stepping\t: 0\n",
            "microcode\t: 0x1\n",
            "cpu MHz\t\t: 2199.998\n",
            "cache size\t: 56320 KB\n",
            "physical id\t: 0\n"
          ]
        }
      ]
    },
    {
      "cell_type": "code",
      "source": [
        "# memory\n",
        "!head /proc/meminfo"
      ],
      "metadata": {
        "colab": {
          "base_uri": "https://localhost:8080/"
        },
        "id": "26_lyXXv0zKF",
        "outputId": "82695410-eedd-4c66-f605-759ef552bb53"
      },
      "execution_count": 5,
      "outputs": [
        {
          "output_type": "stream",
          "name": "stdout",
          "text": [
            "MemTotal:       13297228 kB\n",
            "MemFree:         8357200 kB\n",
            "MemAvailable:   12309220 kB\n",
            "Buffers:          331952 kB\n",
            "Cached:          3723320 kB\n",
            "SwapCached:            0 kB\n",
            "Active:           647116 kB\n",
            "Inactive:        4082736 kB\n",
            "Active(anon):        920 kB\n",
            "Inactive(anon):   593244 kB\n"
          ]
        }
      ]
    },
    {
      "cell_type": "markdown",
      "source": [
        "### 2. 구글 코랩 드라이버 연동"
      ],
      "metadata": {
        "id": "58KAdcsOzm-l"
      }
    },
    {
      "cell_type": "code",
      "source": [
        "!pwd"
      ],
      "metadata": {
        "colab": {
          "base_uri": "https://localhost:8080/"
        },
        "id": "Csx4azPM1Kx9",
        "outputId": "05d00f96-8c05-4199-879f-3fc2a7ec16e6"
      },
      "execution_count": 6,
      "outputs": [
        {
          "output_type": "stream",
          "name": "stdout",
          "text": [
            "/content\n"
          ]
        }
      ]
    },
    {
      "cell_type": "code",
      "source": [
        "from google.colab import drive\n",
        "drive.mount('/content/drive') "
      ],
      "metadata": {
        "colab": {
          "base_uri": "https://localhost:8080/"
        },
        "id": "5Um2PGf3y1pe",
        "outputId": "ccf17ee0-04a5-4a8d-b036-e9b89396e80b"
      },
      "execution_count": 9,
      "outputs": [
        {
          "output_type": "stream",
          "name": "stdout",
          "text": [
            "Drive already mounted at /content/drive; to attempt to forcibly remount, call drive.mount(\"/content/drive\", force_remount=True).\n"
          ]
        }
      ]
    },
    {
      "cell_type": "code",
      "source": [
        "# 경로 변경\n",
        "%cd /content/drive/MyDrive/python_demo"
      ],
      "metadata": {
        "colab": {
          "base_uri": "https://localhost:8080/"
        },
        "id": "EEcAAhh6z3D-",
        "outputId": "456e6346-5cea-4ab2-9b7b-295b94a7d127"
      },
      "execution_count": 13,
      "outputs": [
        {
          "output_type": "stream",
          "name": "stdout",
          "text": [
            "/content/drive/MyDrive/python_demo\n"
          ]
        }
      ]
    },
    {
      "cell_type": "code",
      "source": [
        "!ls"
      ],
      "metadata": {
        "colab": {
          "base_uri": "https://localhost:8080/"
        },
        "id": "rm4mQZ9C1qrP",
        "outputId": "70b4011a-25ab-4658-fdb1-e13daf955086"
      },
      "execution_count": 17,
      "outputs": [
        {
          "output_type": "stream",
          "name": "stdout",
          "text": [
            " 01_자료형_풀이.ipynb\t\t    python_02_basic.ipynb\n",
            " 01_자료형_문제.ipynb\t\t    python_03_statement.ipynb\n",
            " 02_제어문_풀이.ipynb\t\t    python_04_function.ipynb\n",
            " 02_제어문_문제.ipynb\t\t    python_07_클래스.ipynb\n",
            " 03_함수형프로그래밍_문제.ipynb     python_08_파일입출력.ipynb\n",
            " 04_함수형프로그래밍_풀이.ipynb     python_09_정규표현식.ipynb\n",
            "'05_정규표현식 문제.ipynb의 사본'   python_10_numpy.ipynb\n",
            "'05_정규표현식 풀이.ipynb의 사본'   python_11_numpy.ipynb\n",
            "'100_colab 환경설정.ipynb'\t    Untitled0.ipynb\n",
            " python_01_markdown.ipynb\n"
          ]
        }
      ]
    },
    {
      "cell_type": "code",
      "source": [],
      "metadata": {
        "id": "D2iehuO82Z8e"
      },
      "execution_count": null,
      "outputs": []
    },
    {
      "cell_type": "code",
      "source": [],
      "metadata": {
        "id": "wMLz2ANIwIpr"
      },
      "execution_count": null,
      "outputs": []
    },
    {
      "cell_type": "code",
      "source": [],
      "metadata": {
        "id": "4X9hblfswI54"
      },
      "execution_count": null,
      "outputs": []
    }
  ]
}